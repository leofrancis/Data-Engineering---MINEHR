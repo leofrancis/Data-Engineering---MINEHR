{
 "cells": [
  {
   "cell_type": "code",
   "execution_count": 1,
   "id": "62c00f65",
   "metadata": {},
   "outputs": [],
   "source": [
    "import pandas as pd\n",
    "import numpy as np\n",
    "import missingno as msno"
   ]
  },
  {
   "cell_type": "markdown",
   "id": "41df8305",
   "metadata": {},
   "source": [
    "<h4>Passo 1 - Leitura do CSV</h4>"
   ]
  },
  {
   "cell_type": "code",
   "execution_count": 2,
   "id": "335e2169",
   "metadata": {},
   "outputs": [
    {
     "name": "stdout",
     "output_type": "stream",
     "text": [
      "<class 'pandas.core.frame.DataFrame'>\n",
      "RangeIndex: 121 entries, 0 to 120\n",
      "Data columns (total 8 columns):\n",
      " #   Column              Non-Null Count  Dtype \n",
      "---  ------              --------------  ----- \n",
      " 0   mes_referencia      121 non-null    object\n",
      " 1   id_funcionario      121 non-null    int64 \n",
      " 2   data_de_nascimento  118 non-null    object\n",
      " 3   data_de_admissao    117 non-null    object\n",
      " 4   data_de_demissao    2 non-null      object\n",
      " 5   grau_de_instrucao   121 non-null    object\n",
      " 6   cargo               121 non-null    object\n",
      " 7   salario             121 non-null    object\n",
      "dtypes: int64(1), object(7)\n",
      "memory usage: 7.7+ KB\n"
     ]
    }
   ],
   "source": [
    "#LOADING DATASET\n",
    "path_dataset = \"./base_mensalizada_de_funcionarios.csv\"\n",
    "\n",
    "df_raw = pd.read_csv(path_dataset, sep=\";\")\n",
    "df_raw.info()"
   ]
  },
  {
   "cell_type": "markdown",
   "id": "010f30aa",
   "metadata": {},
   "source": [
    "<h4>Passo 2.1 - Completude </h4>"
   ]
  },
  {
   "cell_type": "code",
   "execution_count": 3,
   "id": "652ff292",
   "metadata": {},
   "outputs": [],
   "source": [
    "#AJUSTING DATA TYPES TO DATA\n",
    "df_raw[\"mes_referencia\"] = pd.to_datetime(df_raw[\"mes_referencia\"], format=\"%d/%m/%Y\")\n",
    "df_raw[\"data_de_nascimento\"] = pd.to_datetime(df_raw[\"data_de_nascimento\"], format=\"%d/%m/%Y\")\n",
    "df_raw[\"data_de_admissao\"] = pd.to_datetime(df_raw[\"data_de_admissao\"], format=\"%d/%m/%Y\")\n",
    "df_raw[\"data_de_demissao\"] = pd.to_datetime(df_raw[\"data_de_demissao\"],  format=\"%d/%m/%Y\")"
   ]
  },
  {
   "cell_type": "code",
   "execution_count": 4,
   "id": "3aa8fe97",
   "metadata": {},
   "outputs": [
    {
     "data": {
      "text/plain": [
       "mes_referencia          0\n",
       "id_funcionario          0\n",
       "data_de_nascimento      3\n",
       "data_de_admissao        4\n",
       "data_de_demissao      119\n",
       "grau_de_instrucao       0\n",
       "cargo                   0\n",
       "salario                 0\n",
       "dtype: int64"
      ]
     },
     "execution_count": 4,
     "metadata": {},
     "output_type": "execute_result"
    }
   ],
   "source": [
    "df_raw.isnull().sum()"
   ]
  },
  {
   "cell_type": "code",
   "execution_count": 5,
   "id": "e09e1fde",
   "metadata": {},
   "outputs": [
    {
     "name": "stderr",
     "output_type": "stream",
     "text": [
      "/tmp/ipykernel_34178/4257497274.py:6: SettingWithCopyWarning: \n",
      "A value is trying to be set on a copy of a slice from a DataFrame\n",
      "\n",
      "See the caveats in the documentation: https://pandas.pydata.org/pandas-docs/stable/user_guide/indexing.html#returning-a-view-versus-a-copy\n",
      "  df_raw[\"salario\"][i] = np.NaN\n",
      "/tmp/ipykernel_34178/4257497274.py:10: SettingWithCopyWarning: \n",
      "A value is trying to be set on a copy of a slice from a DataFrame\n",
      "\n",
      "See the caveats in the documentation: https://pandas.pydata.org/pandas-docs/stable/user_guide/indexing.html#returning-a-view-versus-a-copy\n",
      "  df_raw[\"salario\"][df_raw[\"id_funcionario\"] == func] = df_aux[\"salario\"].interpolate(method='pad', order=2)\n"
     ]
    }
   ],
   "source": [
    "#AJUSTING SALARY TO FLOAT\n",
    "for i in range(0,len(df_raw)):\n",
    "    if df_raw[\"salario\"][i].isnumeric():\n",
    "        continue\n",
    "    else:\n",
    "        df_raw[\"salario\"][i] = np.NaN\n",
    "\n",
    "for func in df_raw[\"id_funcionario\"].unique():\n",
    "    df_aux = df_raw[df_raw[\"id_funcionario\"] == func]\n",
    "    df_raw[\"salario\"][df_raw[\"id_funcionario\"] == func] = df_aux[\"salario\"].interpolate(method='pad', order=2)\n",
    "\n",
    "df_raw[\"salario\"] = df_raw[\"salario\"].astype(float)"
   ]
  },
  {
   "cell_type": "code",
   "execution_count": 6,
   "id": "fe438ceb",
   "metadata": {},
   "outputs": [
    {
     "name": "stderr",
     "output_type": "stream",
     "text": [
      "/tmp/ipykernel_34178/2428437352.py:7: SettingWithCopyWarning: \n",
      "A value is trying to be set on a copy of a slice from a DataFrame\n",
      "\n",
      "See the caveats in the documentation: https://pandas.pydata.org/pandas-docs/stable/user_guide/indexing.html#returning-a-view-versus-a-copy\n",
      "  df_raw[\"data_de_admissao\"][df_raw[\"id_funcionario\"] == func] = df_aux[\"data_de_admissao\"].bfill().ffill()\n",
      "/tmp/ipykernel_34178/2428437352.py:8: SettingWithCopyWarning: \n",
      "A value is trying to be set on a copy of a slice from a DataFrame\n",
      "\n",
      "See the caveats in the documentation: https://pandas.pydata.org/pandas-docs/stable/user_guide/indexing.html#returning-a-view-versus-a-copy\n",
      "  df_raw[\"data_de_nascimento\"][df_raw[\"id_funcionario\"] == func] = df_aux[\"data_de_nascimento\"].bfill().ffill()\n"
     ]
    }
   ],
   "source": [
    "#AJUSTING DATES\n",
    "for func in df_raw[\"id_funcionario\"].unique():\n",
    "    df_aux = df_raw[df_raw[\"id_funcionario\"] == func]\n",
    "\n",
    "    # df_raw[\"data_de_admissao\"][df_raw[\"id_funcionario\"] == func] = df_aux[\"data_de_admissao\"].interpolate(method='pad', order=1)     #AJUSTING ADMINISSION DATE\n",
    "    # df_raw[\"data_de_nascimento\"][df_raw[\"id_funcionario\"] == func] = df_aux[\"data_de_nascimento\"].interpolate(method='pad', order=1) #AJUSTING DOB\n",
    "    df_raw[\"data_de_admissao\"][df_raw[\"id_funcionario\"] == func] = df_aux[\"data_de_admissao\"].bfill().ffill()\n",
    "    df_raw[\"data_de_nascimento\"][df_raw[\"id_funcionario\"] == func] = df_aux[\"data_de_nascimento\"].bfill().ffill()"
   ]
  },
  {
   "cell_type": "code",
   "execution_count": 7,
   "id": "b658e95a",
   "metadata": {},
   "outputs": [],
   "source": [
    "# df_raw[df_raw['data_de_admissao'].isnull()]\n",
    "# df_raw[df_raw['data_de_nascimento'].isnull()]"
   ]
  },
  {
   "cell_type": "code",
   "execution_count": 8,
   "id": "8132bb1a",
   "metadata": {},
   "outputs": [
    {
     "data": {
      "text/plain": [
       "mes_referencia          0\n",
       "id_funcionario          0\n",
       "data_de_nascimento      0\n",
       "data_de_admissao        0\n",
       "data_de_demissao      119\n",
       "grau_de_instrucao       0\n",
       "cargo                   0\n",
       "salario                 0\n",
       "dtype: int64"
      ]
     },
     "execution_count": 8,
     "metadata": {},
     "output_type": "execute_result"
    }
   ],
   "source": [
    "df_raw.isnull().sum()"
   ]
  },
  {
   "cell_type": "markdown",
   "id": "010f30aa",
   "metadata": {},
   "source": [
    "<h4>Passo 2.2 - Unicidade </h4>"
   ]
  },
  {
   "cell_type": "code",
   "execution_count": 9,
   "id": "71e94fc9",
   "metadata": {},
   "outputs": [
    {
     "data": {
      "text/plain": [
       "(121, 8)"
      ]
     },
     "execution_count": 9,
     "metadata": {},
     "output_type": "execute_result"
    }
   ],
   "source": [
    "df_raw.shape"
   ]
  },
  {
   "cell_type": "code",
   "execution_count": 10,
   "id": "45a3e018",
   "metadata": {},
   "outputs": [],
   "source": [
    "df_raw = df_raw.loc[~df_raw[[\"mes_referencia\", \"id_funcionario\"]].duplicated()]\n",
    "# df_raw.reset_index"
   ]
  },
  {
   "cell_type": "code",
   "execution_count": 11,
   "id": "8a016e61",
   "metadata": {},
   "outputs": [
    {
     "data": {
      "text/plain": [
       "(115, 8)"
      ]
     },
     "execution_count": 11,
     "metadata": {},
     "output_type": "execute_result"
    }
   ],
   "source": [
    "df_raw.shape"
   ]
  },
  {
   "cell_type": "markdown",
   "id": "d268c5a7",
   "metadata": {},
   "source": [
    "<h4>Passo 2.3  a 2.5 - Integridade e Padrões </h4>"
   ]
  },
  {
   "cell_type": "code",
   "execution_count": 12,
   "id": "eb8a29d2",
   "metadata": {},
   "outputs": [],
   "source": [
    "df_raw[\"grau_de_instrucao\"] = df_raw[\"grau_de_instrucao\"].str.capitalize()\n",
    "df_raw[\"cargo\"] = df_raw[\"cargo\"].str.title()\n",
    "\n",
    "df_raw[\"grau_de_instrucao\"] = df_raw[\"grau_de_instrucao\"].str.lstrip()\n",
    "df_raw[\"cargo\"] = df_raw[\"cargo\"].str.lstrip()"
   ]
  },
  {
   "cell_type": "code",
   "execution_count": 28,
   "id": "f040ba1f",
   "metadata": {},
   "outputs": [],
   "source": [
    "# msno.bar(df_raw)\n",
    "# msno.matrix(df_raw)"
   ]
  },
  {
   "cell_type": "code",
   "execution_count": 15,
   "id": "de9377cf",
   "metadata": {},
   "outputs": [],
   "source": [
    "# df_raw[20:50]"
   ]
  },
  {
   "cell_type": "markdown",
   "id": "18d0fb9d",
   "metadata": {},
   "source": [
    "<h4>Passo 3.1 - Admitido no mês</h4>"
   ]
  },
  {
   "cell_type": "code",
   "execution_count": 16,
   "id": "425bb216",
   "metadata": {},
   "outputs": [],
   "source": [
    "df_admitido_mes = df_raw[(pd.DatetimeIndex(df_raw['data_de_admissao']).month == pd.DatetimeIndex(df_raw['mes_referencia']).month) & \n",
    "                         (pd.DatetimeIndex(df_raw['data_de_admissao']).year  == pd.DatetimeIndex(df_raw['mes_referencia']).year) ].index\n",
    "# df_admitido_mes = df_raw[(pd.DatetimeIndex(df_raw['data_de_admissao']).month == pd.DatetimeIndex(df_raw['mes_referencia']).month)].index\n",
    "\n",
    "df_raw[\"admitido_no_mes\"] = [1 if idx in df_admitido_mes else 0 for idx in df_raw.index]"
   ]
  },
  {
   "cell_type": "markdown",
   "id": "2c7acf63",
   "metadata": {},
   "source": [
    "<h4>Passo 3.2 - Demitido no mês</h4>"
   ]
  },
  {
   "cell_type": "code",
   "execution_count": 17,
   "id": "2f78582e",
   "metadata": {},
   "outputs": [],
   "source": [
    "df_demitido_mes = df_raw[(pd.DatetimeIndex(df_raw['data_de_demissao']).month == pd.DatetimeIndex(df_raw['mes_referencia']).month) & \n",
    "                         (pd.DatetimeIndex(df_raw['data_de_demissao']).year  == pd.DatetimeIndex(df_raw['mes_referencia']).year) ].index\n",
    "# df_demitido_mes = df_raw[(pd.DatetimeIndex(df_raw['data_de_demissao']).month == pd.DatetimeIndex(df_raw['mes_referencia']).month)].index\n",
    "\n",
    "df_raw[\"demitido_no_mes\"] = [1 if idx in df_demitido_mes else 0 for idx in df_raw.index]"
   ]
  },
  {
   "cell_type": "markdown",
   "id": "34137f7b",
   "metadata": {},
   "source": [
    "<h4>Passo 3.3 - Idade</h4>"
   ]
  },
  {
   "cell_type": "code",
   "execution_count": 18,
   "id": "fdf526d7",
   "metadata": {},
   "outputs": [],
   "source": [
    "def calculate_year_between(start, now):\n",
    "    try: \n",
    "        birthday = start.replace(year=now.year)\n",
    "    except ValueError: # raised when birth date is February 29 and the current year is not a leap year\n",
    "        birthday = start.replace(year=now.year, month=start.month+1, day=1)\n",
    "    if birthday > now:\n",
    "        return now.year - start.year - 1\n",
    "    else:\n",
    "        return now.year - start.year\n",
    "\n",
    "df_raw[\"idade\"] = [calculate_year_between(df_raw[\"data_de_nascimento\"][idx], df_raw[\"mes_referencia\"][idx]) for idx in df_raw.index]"
   ]
  },
  {
   "cell_type": "markdown",
   "id": "010f30aa",
   "metadata": {},
   "source": [
    "<h4>Passo 3.4 - Escolaridade categorizada</h4>\n",
    "<h5>Categorias:\n",
    "<ul>\n",
    "  <li>ensino fundamental incompleto</li>\n",
    "  <li>ensino fundamental completo</li>\n",
    "  <li>ensino médio incompleto</li>\n",
    "  <li>ensino médio completo</li>\n",
    "  <li>ensino superior incompleto</li>\n",
    "  <li>ensino superior completo</li>\n",
    "  <li>pós graduação</li>\n",
    "  <li>mestrado</li>\n",
    "  <li>doutorado</li>\n",
    "</ul>\n",
    "</h5>"
   ]
  },
  {
   "cell_type": "code",
   "execution_count": 19,
   "id": "8f888e91",
   "metadata": {},
   "outputs": [],
   "source": [
    "categoria_grau =   [\"ensino fundamental incompleto\", #0\n",
    "                        \"ensino fundamental completo\",   #1\n",
    "                        \"ensino médio incompleto\",       #2\n",
    "                        \"ensino médio completo\",         #3 \n",
    "                        \"ensino superior incompleto\",    #4\n",
    "                        \"ensino superior completo\",      #5\n",
    "                        \"pós graduação\",                 #6\n",
    "                        \"mestrado\",                      #7\n",
    "                        \"doutorado\"]                     #8\n",
    "    \n",
    "categoria_grau = [categoria_grau[idx].title() for idx in range(0, len(categoria_grau))]\n",
    "\n",
    "def escolaridade(grau_instrucao):\n",
    "    grau_instrucao = grau_instrucao.lower()\n",
    "\n",
    "    if \"funda\" in grau_instrucao or \"série\" in grau_instrucao :\n",
    "        if \"incom\" in grau_instrucao or \"série\" in grau_instrucao:\n",
    "            return categoria_grau[0]\n",
    "        elif \"comp\" in grau_instrucao:\n",
    "            return categoria_grau[1]\n",
    "    elif \"médio\" in grau_instrucao or \"medio\" in grau_instrucao:\n",
    "        if \"incom\" in grau_instrucao:\n",
    "            return categoria_grau[2]\n",
    "        elif \"comp\" in grau_instrucao:\n",
    "            return categoria_grau[3]\n",
    "    elif \"superior\" in grau_instrucao or \"faculdade\" in grau_instrucao or (\"graduação\" in grau_instrucao and not \"pós\" in grau_instrucao):\n",
    "        if \"incom\" in grau_instrucao:\n",
    "            return categoria_grau[4]\n",
    "        elif \"comp\" in grau_instrucao or \"graduação\" in grau_instrucao:\n",
    "            return categoria_grau[5]\n",
    "    elif \"pós graduação\" in grau_instrucao:\n",
    "        return categoria_grau[6]\n",
    "    elif \"mestrado\" in grau_instrucao:\n",
    "        return categoria_grau[7]\n",
    "    elif \"doutorado\" in grau_instrucao:\n",
    "        return categoria_grau[8]\n",
    "    else:\n",
    "        return \"FORA\"\n",
    "\n",
    "df_raw[\"grau_de_instrucao\"] = [escolaridade(df_raw[\"grau_de_instrucao\"][idx]) for idx in df_raw.index]"
   ]
  },
  {
   "cell_type": "markdown",
   "id": "514d129a",
   "metadata": {},
   "source": [
    "<h4>Passo 3.5 - Tempo de empresa</h4>"
   ]
  },
  {
   "cell_type": "code",
   "execution_count": 20,
   "id": "ce5a856f",
   "metadata": {},
   "outputs": [],
   "source": [
    "df_raw[\"tempo_de_empresa\"] = [calculate_year_between(df_raw[\"data_de_admissao\"][idx], df_raw[\"mes_referencia\"][idx]) for idx in df_raw.index]"
   ]
  },
  {
   "cell_type": "markdown",
   "id": "5a5b98f1",
   "metadata": {},
   "source": [
    "<h4>Passo 3.6 - Mudou de salário</h4>"
   ]
  },
  {
   "cell_type": "code",
   "execution_count": 21,
   "id": "34efbce7",
   "metadata": {},
   "outputs": [],
   "source": [
    "df_new = []\n",
    "for func in df_raw[\"id_funcionario\"].unique():\n",
    "    df_aux = df_raw[df_raw[\"id_funcionario\"] == func]\n",
    "\n",
    "    df_roll = np.roll(df_aux[\"salario\"], 1)\n",
    "    df_roll[0] = df_roll[1]\n",
    "    df_rolled = pd.DataFrame(df_roll, index=df_aux.index, columns=[\"salario\"])\n",
    "\n",
    "    df_new.append(pd.DataFrame([1 if df_rolled[\"salario\"][idx] != df_aux[\"salario\"][idx] else 0 for idx in df_aux.index], index=df_aux.index, columns=[\"mudou_de_salario\"]))\n",
    "\n",
    "df_raw[\"mudou_de_salario\"] = pd.concat(df_new, join='outer', axis=0)"
   ]
  },
  {
   "cell_type": "markdown",
   "id": "91befbac",
   "metadata": {},
   "source": [
    "<h4>Passo 3.7 - Mudou de cargo</h4>"
   ]
  },
  {
   "cell_type": "code",
   "execution_count": 22,
   "id": "29b3fb82",
   "metadata": {},
   "outputs": [],
   "source": [
    "df_new = []\n",
    "for func in df_raw[\"id_funcionario\"].unique():\n",
    "    df_aux = df_raw[df_raw[\"id_funcionario\"] == func]\n",
    "\n",
    "    df_roll = np.roll(df_aux[\"cargo\"], 1)\n",
    "    df_roll[0] = df_roll[1]\n",
    "    df_rolled = pd.DataFrame(df_roll, index=df_aux.index, columns=[\"cargo\"])\n",
    "\n",
    "    df_new.append(pd.DataFrame([1 if df_rolled[\"cargo\"][idx] != df_aux[\"cargo\"][idx] else 0 for idx in df_aux.index], index=df_aux.index, columns=[\"mudou_de_cargo\"]))\n",
    "\n",
    "df_raw[\"mudou_de_cargo\"] = pd.concat(df_new, join='outer', axis=0)"
   ]
  },
  {
   "cell_type": "code",
   "execution_count": 23,
   "id": "6299c31f",
   "metadata": {},
   "outputs": [
    {
     "name": "stdout",
     "output_type": "stream",
     "text": [
      "<class 'pandas.core.frame.DataFrame'>\n",
      "Int64Index: 115 entries, 0 to 120\n",
      "Data columns (total 14 columns):\n",
      " #   Column              Non-Null Count  Dtype         \n",
      "---  ------              --------------  -----         \n",
      " 0   mes_referencia      115 non-null    datetime64[ns]\n",
      " 1   id_funcionario      115 non-null    int64         \n",
      " 2   data_de_nascimento  115 non-null    datetime64[ns]\n",
      " 3   data_de_admissao    115 non-null    datetime64[ns]\n",
      " 4   data_de_demissao    2 non-null      datetime64[ns]\n",
      " 5   grau_de_instrucao   115 non-null    object        \n",
      " 6   cargo               115 non-null    object        \n",
      " 7   salario             115 non-null    float64       \n",
      " 8   admitido_no_mes     115 non-null    int64         \n",
      " 9   demitido_no_mes     115 non-null    int64         \n",
      " 10  idade               115 non-null    int64         \n",
      " 11  tempo_de_empresa    115 non-null    int64         \n",
      " 12  mudou_de_salario    115 non-null    int64         \n",
      " 13  mudou_de_cargo      115 non-null    int64         \n",
      "dtypes: datetime64[ns](4), float64(1), int64(7), object(2)\n",
      "memory usage: 18.5+ KB\n"
     ]
    }
   ],
   "source": [
    "df_raw.info()"
   ]
  }
 ],
 "metadata": {
  "interpreter": {
   "hash": "31f2aee4e71d21fbe5cf8b01ff0e069b9275f58929596ceb00d14d90e3e16cd6"
  },
  "kernelspec": {
   "display_name": "Python 3",
   "language": "python",
   "name": "python3"
  },
  "language_info": {
   "codemirror_mode": {
    "name": "ipython",
    "version": 3
   },
   "file_extension": ".py",
   "mimetype": "text/x-python",
   "name": "python",
   "nbconvert_exporter": "python",
   "pygments_lexer": "ipython3",
   "version": "3.8.10"
  }
 },
 "nbformat": 4,
 "nbformat_minor": 5
}
